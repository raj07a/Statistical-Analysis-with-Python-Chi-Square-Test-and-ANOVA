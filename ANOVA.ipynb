{
 "cells": [
  {
   "cell_type": "code",
   "execution_count": 22,
   "id": "c1175748-bd68-433a-b058-21e0ff64534f",
   "metadata": {},
   "outputs": [],
   "source": [
    "import pandas as pd\n",
    "import numpy as np\n",
    "\n",
    "np.random.seed(0)\n",
    "\n",
    "data = {\n",
    "    'Method A': np.round(np.random.normal(loc=80, scale=5, size=6)),\n",
    "    'Method B': np.round(np.random.normal(loc=85, scale=5, size=6)),\n",
    "    'Method C': np.round(np.random.normal(loc=90, scale=5, size=6))\n",
    "}\n",
    "\n",
    "df = pd.DataFrame(data)\n"
   ]
  },
  {
   "cell_type": "code",
   "execution_count": 23,
   "id": "7c5630c2-0e73-4daa-b266-1a094ddf581d",
   "metadata": {},
   "outputs": [
    {
     "data": {
      "text/html": [
       "<div>\n",
       "<style scoped>\n",
       "    .dataframe tbody tr th:only-of-type {\n",
       "        vertical-align: middle;\n",
       "    }\n",
       "\n",
       "    .dataframe tbody tr th {\n",
       "        vertical-align: top;\n",
       "    }\n",
       "\n",
       "    .dataframe thead th {\n",
       "        text-align: right;\n",
       "    }\n",
       "</style>\n",
       "<table border=\"1\" class=\"dataframe\">\n",
       "  <thead>\n",
       "    <tr style=\"text-align: right;\">\n",
       "      <th></th>\n",
       "      <th>Method A</th>\n",
       "      <th>Method B</th>\n",
       "      <th>Method C</th>\n",
       "    </tr>\n",
       "  </thead>\n",
       "  <tbody>\n",
       "    <tr>\n",
       "      <th>0</th>\n",
       "      <td>89.0</td>\n",
       "      <td>90.0</td>\n",
       "      <td>94.0</td>\n",
       "    </tr>\n",
       "    <tr>\n",
       "      <th>1</th>\n",
       "      <td>82.0</td>\n",
       "      <td>84.0</td>\n",
       "      <td>91.0</td>\n",
       "    </tr>\n",
       "    <tr>\n",
       "      <th>2</th>\n",
       "      <td>85.0</td>\n",
       "      <td>84.0</td>\n",
       "      <td>92.0</td>\n",
       "    </tr>\n",
       "    <tr>\n",
       "      <th>3</th>\n",
       "      <td>91.0</td>\n",
       "      <td>87.0</td>\n",
       "      <td>92.0</td>\n",
       "    </tr>\n",
       "    <tr>\n",
       "      <th>4</th>\n",
       "      <td>89.0</td>\n",
       "      <td>86.0</td>\n",
       "      <td>97.0</td>\n",
       "    </tr>\n",
       "    <tr>\n",
       "      <th>5</th>\n",
       "      <td>75.0</td>\n",
       "      <td>92.0</td>\n",
       "      <td>89.0</td>\n",
       "    </tr>\n",
       "  </tbody>\n",
       "</table>\n",
       "</div>"
      ],
      "text/plain": [
       "   Method A  Method B  Method C\n",
       "0      89.0      90.0      94.0\n",
       "1      82.0      84.0      91.0\n",
       "2      85.0      84.0      92.0\n",
       "3      91.0      87.0      92.0\n",
       "4      89.0      86.0      97.0\n",
       "5      75.0      92.0      89.0"
      ]
     },
     "execution_count": 23,
     "metadata": {},
     "output_type": "execute_result"
    }
   ],
   "source": [
    "df"
   ]
  },
  {
   "cell_type": "code",
   "execution_count": 34,
   "id": "3014b48f-6dcd-4351-9f09-446553fda8a4",
   "metadata": {},
   "outputs": [
    {
     "data": {
      "text/html": [
       "<div>\n",
       "<style scoped>\n",
       "    .dataframe tbody tr th:only-of-type {\n",
       "        vertical-align: middle;\n",
       "    }\n",
       "\n",
       "    .dataframe tbody tr th {\n",
       "        vertical-align: top;\n",
       "    }\n",
       "\n",
       "    .dataframe thead th {\n",
       "        text-align: right;\n",
       "    }\n",
       "</style>\n",
       "<table border=\"1\" class=\"dataframe\">\n",
       "  <thead>\n",
       "    <tr style=\"text-align: right;\">\n",
       "      <th></th>\n",
       "      <th>Method A</th>\n",
       "      <th>Method B</th>\n",
       "      <th>Method C</th>\n",
       "    </tr>\n",
       "  </thead>\n",
       "  <tbody>\n",
       "    <tr>\n",
       "      <th>0</th>\n",
       "      <td>89.0</td>\n",
       "      <td>90.0</td>\n",
       "      <td>94.0</td>\n",
       "    </tr>\n",
       "    <tr>\n",
       "      <th>1</th>\n",
       "      <td>82.0</td>\n",
       "      <td>84.0</td>\n",
       "      <td>91.0</td>\n",
       "    </tr>\n",
       "    <tr>\n",
       "      <th>2</th>\n",
       "      <td>85.0</td>\n",
       "      <td>84.0</td>\n",
       "      <td>92.0</td>\n",
       "    </tr>\n",
       "    <tr>\n",
       "      <th>3</th>\n",
       "      <td>91.0</td>\n",
       "      <td>87.0</td>\n",
       "      <td>92.0</td>\n",
       "    </tr>\n",
       "    <tr>\n",
       "      <th>4</th>\n",
       "      <td>89.0</td>\n",
       "      <td>86.0</td>\n",
       "      <td>97.0</td>\n",
       "    </tr>\n",
       "    <tr>\n",
       "      <th>5</th>\n",
       "      <td>75.0</td>\n",
       "      <td>92.0</td>\n",
       "      <td>89.0</td>\n",
       "    </tr>\n",
       "  </tbody>\n",
       "</table>\n",
       "</div>"
      ],
      "text/plain": [
       "   Method A  Method B  Method C\n",
       "0      89.0      90.0      94.0\n",
       "1      82.0      84.0      91.0\n",
       "2      85.0      84.0      92.0\n",
       "3      91.0      87.0      92.0\n",
       "4      89.0      86.0      97.0\n",
       "5      75.0      92.0      89.0"
      ]
     },
     "execution_count": 34,
     "metadata": {},
     "output_type": "execute_result"
    }
   ],
   "source": [
    "df"
   ]
  },
  {
   "cell_type": "code",
   "execution_count": 35,
   "id": "06374a8c-555d-4b59-91ba-ec2695c53f1c",
   "metadata": {},
   "outputs": [
    {
     "data": {
      "text/plain": [
       "88.27777777777779"
      ]
     },
     "execution_count": 35,
     "metadata": {},
     "output_type": "execute_result"
    }
   ],
   "source": [
    "overall_mean = df.mean().mean()\n",
    "overall_mean"
   ]
  },
  {
   "cell_type": "code",
   "execution_count": 36,
   "id": "0d240f8e-92f0-4db6-9b9e-41471e20be5a",
   "metadata": {},
   "outputs": [
    {
     "data": {
      "text/plain": [
       "172.4444444444442"
      ]
     },
     "execution_count": 36,
     "metadata": {},
     "output_type": "execute_result"
    }
   ],
   "source": [
    "ss_between = sum(df[group].size * (group_mean - overall_mean)**2 for group, group_mean in df.mean().items())\n",
    "ss_between"
   ]
  },
  {
   "cell_type": "code",
   "execution_count": 37,
   "id": "20364983-2f6e-4565-927d-c1a8de477773",
   "metadata": {},
   "outputs": [
    {
     "data": {
      "text/plain": [
       "267.16666666666663"
      ]
     },
     "execution_count": 37,
     "metadata": {},
     "output_type": "execute_result"
    }
   ],
   "source": [
    "ss_within = sum(((df[group] - group_mean)**2).sum() for group, group_mean in df.mean().items())\n",
    "ss_within"
   ]
  },
  {
   "cell_type": "code",
   "execution_count": 38,
   "id": "20995f88-ab8a-40d9-b017-874c8a843c15",
   "metadata": {},
   "outputs": [],
   "source": [
    "df_between = len(df.columns) - 1S\n",
    "df_within = df.size - len(df.columns)\n",
    "ms_between = ss_between / df_between\n",
    "ms_within = ss_within / df_within\n",
    "f_statistic = ms_between / ms_within"
   ]
  },
  {
   "cell_type": "code",
   "execution_count": 39,
   "id": "a8ea2f5c-610f-4bad-86bb-d3cabee533c5",
   "metadata": {},
   "outputs": [
    {
     "data": {
      "text/plain": [
       "86.2222222222221"
      ]
     },
     "execution_count": 39,
     "metadata": {},
     "output_type": "execute_result"
    }
   ],
   "source": [
    "ms_between"
   ]
  },
  {
   "cell_type": "code",
   "execution_count": 40,
   "id": "038bdc7b-e4b7-4a44-91fd-d268e19efc9b",
   "metadata": {},
   "outputs": [
    {
     "data": {
      "text/plain": [
       "17.81111111111111"
      ]
     },
     "execution_count": 40,
     "metadata": {},
     "output_type": "execute_result"
    }
   ],
   "source": [
    "ms_within"
   ]
  },
  {
   "cell_type": "code",
   "execution_count": 28,
   "id": "92070d2a-b954-4189-b776-d42f4b6ba2ec",
   "metadata": {},
   "outputs": [
    {
     "data": {
      "text/plain": [
       "2"
      ]
     },
     "execution_count": 28,
     "metadata": {},
     "output_type": "execute_result"
    }
   ],
   "source": [
    "df_between"
   ]
  },
  {
   "cell_type": "code",
   "execution_count": 29,
   "id": "a25b4fd6-5c15-49f0-b398-28cd7e101973",
   "metadata": {},
   "outputs": [
    {
     "data": {
      "text/plain": [
       "15"
      ]
     },
     "execution_count": 29,
     "metadata": {},
     "output_type": "execute_result"
    }
   ],
   "source": [
    "df_within"
   ]
  },
  {
   "cell_type": "code",
   "execution_count": 30,
   "id": "4d185605-7200-4a6f-8e8a-4392ec07509c",
   "metadata": {},
   "outputs": [
    {
     "data": {
      "text/plain": [
       "4.840923268870861"
      ]
     },
     "execution_count": 30,
     "metadata": {},
     "output_type": "execute_result"
    }
   ],
   "source": [
    "f_statistic"
   ]
  },
  {
   "cell_type": "code",
   "execution_count": 31,
   "id": "140cb2fb-1443-49ff-9b89-66c25adbc444",
   "metadata": {},
   "outputs": [
    {
     "data": {
      "text/plain": [
       "3.6823203436732412"
      ]
     },
     "execution_count": 31,
     "metadata": {},
     "output_type": "execute_result"
    }
   ],
   "source": [
    "from scipy.stats import f\n",
    "\n",
    "alpha = 0.05\n",
    "\n",
    "f_critical = f.ppf(1 - alpha, df_between, df_within)\n",
    "f_critical"
   ]
  },
  {
   "cell_type": "code",
   "execution_count": null,
   "id": "5bba8c98-54fd-4bcb-a6c8-1f27e90d6047",
   "metadata": {},
   "outputs": [],
   "source": []
  }
 ],
 "metadata": {
  "kernelspec": {
   "display_name": "Python 3 (ipykernel)",
   "language": "python",
   "name": "python3"
  },
  "language_info": {
   "codemirror_mode": {
    "name": "ipython",
    "version": 3
   },
   "file_extension": ".py",
   "mimetype": "text/x-python",
   "name": "python",
   "nbconvert_exporter": "python",
   "pygments_lexer": "ipython3",
   "version": "3.11.7"
  }
 },
 "nbformat": 4,
 "nbformat_minor": 5
}
