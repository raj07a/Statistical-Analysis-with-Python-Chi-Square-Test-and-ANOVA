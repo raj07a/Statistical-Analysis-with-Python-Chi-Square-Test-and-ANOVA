{
 "cells": [
  {
   "cell_type": "code",
   "execution_count": 1,
   "id": "757e4c7e-0197-41b9-990f-1dee35bb4d74",
   "metadata": {},
   "outputs": [
    {
     "name": "stdout",
     "output_type": "stream",
     "text": [
      "Observed Frequencies:\n",
      "             Method 1  Method 2\n",
      "Category A        30        25\n",
      "Category B        35        30\n",
      "Category C        40        35 \n",
      "\n",
      "Row Totals: Category A    55\n",
      "Category B    65\n",
      "Category C    75\n",
      "dtype: int64\n",
      "Column Totals: Method 1    105\n",
      "Method 2     90\n",
      "dtype: int64\n",
      "Grand Total: 195 \n",
      "\n",
      "Expected Frequencies:\n",
      "              Method 1   Method 2\n",
      "Category A  29.615385  25.384615\n",
      "Category B  35.000000  30.000000\n",
      "Category C  40.384615  34.615385 \n",
      "\n",
      "Chi-square Statistic: 0.01875901875901877 \n",
      "\n",
      "Degrees of Freedom: 2 \n",
      "\n",
      "Chi-square Critical Value: 5.991464547107979 \n",
      "\n"
     ]
    }
   ],
   "source": [
    "import pandas as pd\n",
    "import numpy as np\n",
    "\n",
    "\n",
    "data = np.array([\n",
    "    [30, 25],  \n",
    "    [35, 30],  \n",
    "    [40, 35]   \n",
    "])\n",
    "df = pd.DataFrame(data, columns=['Method 1', 'Method 2'], index=['Category A', 'Category B', 'Category C'])\n",
    "print(\"Observed Frequencies:\\n\", df, \"\\n\")\n",
    "\n",
    "\n",
    "row_totals = df.sum(axis=1)\n",
    "column_totals = df.sum(axis=0)\n",
    "grand_total = row_totals.sum()\n",
    "\n",
    "print(\"Row Totals:\", row_totals)\n",
    "print(\"Column Totals:\", column_totals)\n",
    "print(\"Grand Total:\", grand_total, \"\\n\")\n",
    "\n",
    "\n",
    "expected = np.outer(row_totals, column_totals) / grand_total\n",
    "expected_df = pd.DataFrame(expected, index=['Category A', 'Category B', 'Category C'], columns=['Method 1', 'Method 2'])\n",
    "print(\"Expected Frequencies:\\n\", expected_df, \"\\n\")\n",
    "\n",
    "\n",
    "chi_squared_stat = ((df - expected_df)**2 / expected_df).sum().sum()\n",
    "print(\"Chi-square Statistic:\", chi_squared_stat, \"\\n\")\n",
    "\n",
    "\n",
    "dof = (len(df.index) - 1) * (len(df.columns) - 1)\n",
    "print(\"Degrees of Freedom:\", dof, \"\\n\")\n",
    "\n",
    "\n",
    "from scipy.stats import chi2\n",
    "alpha = 0.05\n",
    "chi2_critical = chi2.ppf(1 - alpha, dof)\n",
    "print(\"Chi-square Critical Value:\", chi2_critical, \"\\n\")\n"
   ]
  },
  {
   "cell_type": "code",
   "execution_count": null,
   "id": "001cf955-80e8-43ca-9469-5863cc277671",
   "metadata": {},
   "outputs": [],
   "source": []
  }
 ],
 "metadata": {
  "kernelspec": {
   "display_name": "Python 3 (ipykernel)",
   "language": "python",
   "name": "python3"
  },
  "language_info": {
   "codemirror_mode": {
    "name": "ipython",
    "version": 3
   },
   "file_extension": ".py",
   "mimetype": "text/x-python",
   "name": "python",
   "nbconvert_exporter": "python",
   "pygments_lexer": "ipython3",
   "version": "3.11.7"
  }
 },
 "nbformat": 4,
 "nbformat_minor": 5
}
